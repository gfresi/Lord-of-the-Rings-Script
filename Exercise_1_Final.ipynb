{
 "cells": [
  {
   "cell_type": "markdown",
   "metadata": {},
   "source": [
    "# Exercise 1"
   ]
  },
  {
   "cell_type": "markdown",
   "metadata": {},
   "source": [
    "## Importierung der Programmbibliotheken"
   ]
  },
  {
   "cell_type": "markdown",
   "metadata": {},
   "source": [
    "Die ```csv``` Programmbibliothek ermöglicht das Nutzen von Funktionen, die das Bearbeiten von CSV Dateien erleichtert.    \n",
    "Die ```re```(regex) Programmbibliothek ermöglicht das komplexe Suchen von Strings."
   ]
  },
  {
   "cell_type": "code",
   "execution_count": 1,
   "metadata": {},
   "outputs": [],
   "source": [
    "import csv \n",
    "import re"
   ]
  },
  {
   "cell_type": "markdown",
   "metadata": {},
   "source": [
    "## Definition der Funktionen"
   ]
  },
  {
   "cell_type": "markdown",
   "metadata": {},
   "source": [
    "### Funktion 1 ( \"readcsv\" ) \n",
    "Die erste Funktion ```readcsv``` dient zum Einlesen der CSV Datei.  \n",
    "Mit dem Befehl ```open``` wird die Datei solange im Read mode ```r``` geöffnet, wie der Code innerhalb der Funktion ist (Wenn keine open Funktion verwendet werden würde, dann würde es nicht als Dateiobjekt zurückgeben.  \n",
    "Im Read Mode ```r``` lässt sich eine Datei nur lesen.  \n",
    "Dabei definieren wir unsere Variable ```reader```, welches zum Einlesen der CSV Datei dient.  \n",
    "Der delimitier wird als ```;``` bestimmt, um die Zeichentrennung anzugeben.  \n",
    "Die Variable ```listreader``` lässt  eine Liste in Python zurückgeben. Der Parameter ```filename``` ist ein String, der den Dateinamen oder Pfad und Name definiert."
   ]
  },
  {
   "cell_type": "code",
   "execution_count": 2,
   "metadata": {},
   "outputs": [],
   "source": [
    "def readcsv(filename):\n",
    "    \n",
    "    with open(filename, 'r') as file:\n",
    "        reader = csv.reader(file, delimiter=\";\")\n",
    "        listreader = list(reader)\n",
    "        \n",
    "    return listreader"
   ]
  },
  {
   "cell_type": "markdown",
   "metadata": {},
   "source": [
    "Die Funktion ```stringerzeugen``` wandelt eine Spalte einer Liste in einen einzigen, langen String um.  \n",
    "Der Übergabeparameter ```listreader``` ist die Liste, dessen Spalte in einen String umgewandelt werden soll.  \n",
    "Der Übergabeparameter ```was``` sagt aus, welche Spalte der Liste dafür genommen wird.  \n",
    "Als erstes wird ein leerer String definiert.  \n",
    "Danach wird die Liste Stück für Stück eingelesen und die jeweilige Spalte durch ein Leerzeichen ```\"\"``` getrennt angehangen. \n",
    "Der ```return``` Value der Funktion ist der erschaffene String.  \n",
    "Dieser enthält nun die gesamte Spalte der Tabelle.        "
   ]
  },
  {
   "cell_type": "code",
   "execution_count": 3,
   "metadata": {},
   "outputs": [],
   "source": [
    "def stringerzeugen(listreader,was):\n",
    "    \n",
    "    text =\"\"\n",
    "    \n",
    "    for i in listreader:\n",
    "        \n",
    "      text = text + \" \" + i[was]\n",
    "    return text"
   ]
  },
  {
   "cell_type": "markdown",
   "metadata": {},
   "source": [
    "### Funktion 2 ( \"suche\" )\n",
    "Die Funktion ```suche``` dient zur durchsuchen von Texten.  \n",
    "Der Übergabe Parameter ```text``` übergibt einen String der übergeben werden soll und der Übergabe Parameter ```was``` übergibt eine Liste nach deren Inhalt gesucht werden soll.  \n",
    "Die erste Anweisung erzeugt ein leeres Dictionary in dem später die Ergebnisse gespeichert werden.  \n",
    "Die ```for``` Schleife geht die Liste nach der gesucht werden soll, Eintrag für Eintrag durch und übergibt jeden der Einträge eine Regex ```findall()``` Funktion.  \n",
    "Der ```findall()``` wird die Übergabe Parameter ```text``` übergeben da dies der zu durchsuchende String ist.  \n",
    "Desweitern wird ```re.IGNORECASE``` übergeben um Groß/Kleinschreibung zu ignorieren.  \n",
    "Die darauffolgende ```if``` Abfrage kontrolliert ob das Ergebnis der ```findall()``` Funktion keine leere Liste ist, dies ist der Fall wenn nichts gefunden wurde.  \n",
    "Wenn die Liste nicht leer ist, wird ein Eintrag im Dictionary angelegt bestehend aus der Suche ```(\"key\")``` und der Länge der Liste ```(value)```, was in diesem Fall gleichbedeutend ist mit der Anzahl der gesuchten Strings.  \n",
    "Das Ergebnis davon ist ein Dictionary mit dem gesuchten Inhalt.  \n",
    "Der Return ```value``` der Funktion ist das Dictionary mit den Ergebnissen."
   ]
  },
  {
   "cell_type": "code",
   "execution_count": 4,
   "metadata": {},
   "outputs": [],
   "source": [
    "def suche(text,was):\n",
    "    \n",
    "    Dic = {}\n",
    "    for y in was: \n",
    "    \n",
    "            x = re.findall(re.escape(y) , text,re.IGNORECASE)\n",
    "  \n",
    "            if x != []:\n",
    "      \n",
    "                Dic[y] = len(x)\n",
    "        \n",
    "    return Dic           "
   ]
  },
  {
   "cell_type": "markdown",
   "metadata": {},
   "source": [
    "### Funktion 3 ( \"writecsv\" ) \n",
    "Die Funktion ```writeCSV``` wird verwendet zum Schreiben der CSV Datei.  \n",
    "Der Übergabe Parameter ```filename``` ist ein String, dessen Inhalt der gewünschte Name ist.  \n",
    "Beim Übergabeparameter ```Dic``` wird ein Dictionary übergeben, das in eine CSV Datei gespeichert werden soll.  \n",
    "In der ersten Anweisung der Funktion wird ```topcollum``` definiert und je nach Benennung verändern sich die Feldnamen der CSV Datei.  \n",
    "Die ```with open``` Funktion öffnet Dateien, solange sie in ihrer Syntax sind.  \n",
    "Als Parameter werden übergeben ```filename```(Name der neuen Datei), dann ```w``` steht für ```write``` das ermöglicht es in der geöffneten Datei zu schreiben und ```newline=\"\"``` bestimmt was nach einem Absatz passiert. (In diesem Fall nichts)  \n",
    "Durch den Ausdruck wird ```writer``` ein csv.writer Objekt und übergibt die oben genannten Parameter an.  \n",
    "```writer.writerow``` Hier wird die erste Zeile definiert. (Mit den Feldnamen die oben definiert wurden)  \n",
    "```writer.writerows(zip(Dic.keys(),Dic.values()))``` Diese Anweisung schreibt die Werte des Dictionary in die csv Datei.  "
   ]
  },
  {
   "cell_type": "code",
   "execution_count": 5,
   "metadata": {},
   "outputs": [],
   "source": [
    "def writecsv(filename,Dic):\n",
    "      \n",
    "    topcollum = ['Character','how often']\n",
    "    \n",
    "    with open(filename, \"w\", newline=\"\") as csvfile:\n",
    "        \n",
    "        writer = csv.writer(csvfile)\n",
    "        \n",
    "        writer.writerow(topcollum)\n",
    "        \n",
    "        writer.writerows(zip(Dic.keys(),Dic.values()))"
   ]
  },
  {
   "cell_type": "markdown",
   "metadata": {},
   "source": [
    "## Zählung der Charakter Column \n",
    "In der ersten Anweisung wird die zu bearbeitende Datei geladen und mit der ```readcsv``` Funktion in ein lesbares Format gebracht.  \n",
    "Damit es keine Fehler beim Verarbeiten der Daten gibt, wird die Zeile mit den Feldnamen ausgeblendet und das Ergebnis in eine neue Variable geschrieben.  \n",
    "Die Schleife geht den Index der Zeilen der Tabelle nach und nach durch.  \n",
    "Mit Hilfe diesen Indexes werden 2 Listen erzeugt, die eine enthält alle Einträge der Charakter Column und die andere enthält alle Namen einmal.  \n",
    "Die letzte Anweisung des Programms sind drei verschachtelte Funktionsaufrufe.  \n",
    "Die erste Funktion ```stringerzeugen``` erzeugt einen String aus einer Liste, damit dieser durchsucht werden kann. Als Parameter bekommt diese dann die Tabelle ohne Kopfzeile und die Charakter Column (1).  \n",
    "Die zweite Funktion ```suche``` hat die erste Funktion (Der String, der durchsucht werden soll) und die Liste der einzigartigen Namen (Was gesucht werden sollte) als Parameter.  \n",
    "Das Ergebnis dieser Funktion ist ein Dictionary mit den Namen und wie oft sie im ```string``` vorkommen.  \n",
    "Dieses Dictionary wird dann mit der Hilfe ```writecsv``` Funktion in ein .csv Datei geschrieben. "
   ]
  },
  {
   "cell_type": "code",
   "execution_count": 6,
   "metadata": {},
   "outputs": [],
   "source": [
    "table = readcsv(\"lotr_clean_clean.csv\")\n",
    "\n",
    "ohnekopfzeile = table[1:]\n",
    "               \n",
    "einzeliste = []       \n",
    "\n",
    "for i in range(len(ohnekopfzeile)):\n",
    "        \n",
    "        if ohnekopfzeile[i][1] not in einzeliste:\n",
    "            \n",
    "            einzeliste.append(ohnekopfzeile[i][1])\n",
    "\n",
    "#print(suche(stringerzeugen(ohnekopfzeile,1),einzeliste))\n",
    "\n",
    "writecsv(\"charactercounts.csv\",suche(stringerzeugen(ohnekopfzeile,1),einzeliste))"
   ]
  },
  {
   "cell_type": "markdown",
   "metadata": {},
   "source": [
    "## Zählung der Dialog Column  \n",
    "Ähnliches Programm wie bei der Zählung der Charakter Column, außer dass die ```string``` Erstellung einen ```string``` aus der zweiten Spalte erstellt und nicht wie bei der Aufgabe 1 aus der ersten."
   ]
  },
  {
   "cell_type": "code",
   "execution_count": 7,
   "metadata": {},
   "outputs": [],
   "source": [
    "table = readcsv(\"lotr_clean_clean.csv\")\n",
    "\n",
    "ohnekopfzeile = table[1:]\n",
    "              \n",
    "einzeliste = []       \n",
    "       \n",
    "for i in range(len(ohnekopfzeile)):\n",
    "        \n",
    "        if ohnekopfzeile[i][1] not in einzeliste:\n",
    "            \n",
    "            einzeliste.append(ohnekopfzeile[i][1])          \n",
    "            \n",
    "#print(suche(stringerzeugen(ohnekopfzeile,2),einzeliste))\n",
    "\n",
    "writecsv(\"dialogcounts.csv\",suche(stringerzeugen(ohnekopfzeile,2),einzeliste))"
   ]
  }
 ],
 "metadata": {
  "kernelspec": {
   "display_name": "Python 3",
   "language": "python",
   "name": "python3"
  },
  "language_info": {
   "codemirror_mode": {
    "name": "ipython",
    "version": 3
   },
   "file_extension": ".py",
   "mimetype": "text/x-python",
   "name": "python",
   "nbconvert_exporter": "python",
   "pygments_lexer": "ipython3",
   "version": "3.7.6"
  }
 },
 "nbformat": 4,
 "nbformat_minor": 4
}
